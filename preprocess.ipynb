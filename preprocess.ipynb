{
 "cells": [
  {
   "cell_type": "code",
   "execution_count": 3,
   "metadata": {},
   "outputs": [],
   "source": [
    "import pandas as pd\n",
    "import numpy as np\n",
    "\n",
    "# Load the dataset (replace 'path_to_file.csv' with the actual file path)\n",
    "data = pd.read_csv('data/bengaluru_prices_preprocessed-final.csv', encoding='utf-8')\n",
    "\n",
    "# Handle N/A values\n",
    "data['Size'] = data['Size'].replace('N/A', np.nan)\n",
    "data['Location'] = data['Location'].replace('N/A', np.nan)\n",
    "data['Bathroom'] = data['Bathroom'].replace('N/A', np.nan)\n",
    "\n",
    "data['Bathroom'] = data['Bathroom'].fillna(data['Bathroom'].mode()[0])\n",
    "data['Size'] = data['Size'].fillna(data['Size'].mode()[0])\n",
    "data['Location'] = data['Location'].fillna('Unknown')\n",
    "\n",
    "# Convert price to numerical value (remove comma and ₹ symbol)\n",
    "data[\"Price in lakhs\"] = data[\"Price in lakhs\"].str.replace(\",\", \"\").str.replace(\"₹\", \"\").astype(float)\n",
    "\n",
    "# Feature engineering (if needed)\n",
    "# Example: Extracting BHK information from Size column\n",
    "data[\"BHK\"] = data[\"Size\"].str.extract(\"(\\d+)\").astype(float)\n",
    "data.drop(\"Size\", axis=1, inplace=True)\n",
    "\n",
    "# Encoding categorical variables (if needed)\n",
    "\n",
    "# Now your data is ready for model training!\n"
   ]
  }
 ],
 "metadata": {
  "kernelspec": {
   "display_name": ".venv",
   "language": "python",
   "name": "python3"
  },
  "language_info": {
   "codemirror_mode": {
    "name": "ipython",
    "version": 3
   },
   "file_extension": ".py",
   "mimetype": "text/x-python",
   "name": "python",
   "nbconvert_exporter": "python",
   "pygments_lexer": "ipython3",
   "version": "3.11.2"
  }
 },
 "nbformat": 4,
 "nbformat_minor": 2
}
